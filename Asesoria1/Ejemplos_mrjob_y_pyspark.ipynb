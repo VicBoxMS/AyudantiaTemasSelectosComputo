{
  "nbformat": 4,
  "nbformat_minor": 0,
  "metadata": {
    "colab": {
      "provenance": [],
      "collapsed_sections": []
    },
    "kernelspec": {
      "name": "python3",
      "display_name": "Python 3"
    },
    "language_info": {
      "name": "python"
    }
  },
  "cells": [
    {
      "cell_type": "markdown",
      "source": [
        "# MRJOB "
      ],
      "metadata": {
        "id": "mnX6WtFVSz1s"
      }
    },
    {
      "cell_type": "code",
      "metadata": {
        "colab": {
          "base_uri": "https://localhost:8080/"
        },
        "id": "ol_AJyBcIzDw",
        "outputId": "35a84b6a-ae1e-4c44-f75c-dc00888c13a3"
      },
      "source": [
        "#instalacion de mrjob\n",
        "!pip install mrjob"
      ],
      "execution_count": 1,
      "outputs": [
        {
          "output_type": "stream",
          "name": "stdout",
          "text": [
            "Looking in indexes: https://pypi.org/simple, https://us-python.pkg.dev/colab-wheels/public/simple/\n",
            "Collecting mrjob\n",
            "  Downloading mrjob-0.7.4-py2.py3-none-any.whl (439 kB)\n",
            "\u001b[K     |████████████████████████████████| 439 kB 5.2 MB/s \n",
            "\u001b[?25hRequirement already satisfied: PyYAML>=3.10 in /usr/local/lib/python3.7/dist-packages (from mrjob) (6.0)\n",
            "Installing collected packages: mrjob\n",
            "Successfully installed mrjob-0.7.4\n"
          ]
        }
      ]
    },
    {
      "cell_type": "code",
      "metadata": {
        "id": "OTSYb_0-JD0S"
      },
      "source": [
        "#importacion de librerias\n",
        "import numpy as np"
      ],
      "execution_count": 2,
      "outputs": []
    },
    {
      "cell_type": "code",
      "metadata": {
        "id": "kR1KddK-JH2I",
        "colab": {
          "base_uri": "https://localhost:8080/"
        },
        "outputId": "aa41fb07-9a6e-42be-f905-cb294dac6226"
      },
      "source": [
        "#Creamos un archivo csv, una matriz\n",
        "array_number = np.random.uniform(1, 100, size = (5, 15))\n",
        "np.savetxt('arreglo_numerico.csv', array_number, delimiter = ',')\n",
        "array_number.shape"
      ],
      "execution_count": 5,
      "outputs": [
        {
          "output_type": "execute_result",
          "data": {
            "text/plain": [
              "(5, 15)"
            ]
          },
          "metadata": {},
          "execution_count": 5
        }
      ]
    },
    {
      "cell_type": "code",
      "metadata": {
        "colab": {
          "base_uri": "https://localhost:8080/"
        },
        "id": "FGqF_7wpNRDh",
        "outputId": "2df555ea-f5e8-49c7-e2c3-b101b1eee20c"
      },
      "source": [
        "#Estadisticos con numpy\n",
        "print('La suma de los valores es: ',np.sum(array_number))\n",
        "print('Es un arreglo de tamaño: ', len(array_number.flatten()))\n",
        "print('La media de array_number es:',np.mean(array_number))"
      ],
      "execution_count": 6,
      "outputs": [
        {
          "output_type": "stream",
          "name": "stdout",
          "text": [
            "La suma de los valores es:  3466.0601299394266\n",
            "Es un arreglo de tamaño:  75\n",
            "La media de array_number es: 46.21413506585902\n"
          ]
        }
      ]
    },
    {
      "cell_type": "code",
      "source": [
        "1+3+4+5+6+7+8+9+5+3+1+3+4+5+6"
      ],
      "metadata": {
        "id": "cxg7qGVNtRhh"
      },
      "execution_count": null,
      "outputs": []
    },
    {
      "cell_type": "code",
      "metadata": {
        "colab": {
          "base_uri": "https://localhost:8080/"
        },
        "id": "lC4uPW3vJMsY",
        "outputId": "74523bb6-a169-4e57-9084-57c83cab70dd"
      },
      "source": [
        "%%file mean_example.py\n",
        "#Guardamos el programa mrjob en mean_example.py\n",
        "\n",
        "from mrjob.job import MRJob\n",
        "\n",
        "#Declaramos una clase de tipo MRJOB\n",
        "class MeanMR(MRJob):\n",
        "  #Declaramos el mapper \n",
        "  def mapper(self, _, line):\n",
        "    valores = [float(value) for value in line.split(',')]\n",
        "    longitud = len(valores) \n",
        "    yield (None , [sum(valores),longitud] ) \n",
        "\n",
        "  #Declaramos reducer\n",
        "  def reducer(self, key, suma_de_valores):\n",
        "    numerador = 0\n",
        "    denominador = 0\n",
        "    for i,j in suma_de_valores:\n",
        "      numerador+=i\n",
        "      denominador+=j\n",
        "    yield key , numerador/denominador\n",
        "\n",
        "if __name__ == '__main__':\n",
        "  MeanMR.run()"
      ],
      "execution_count": 7,
      "outputs": [
        {
          "output_type": "stream",
          "name": "stdout",
          "text": [
            "Writing mean_example.py\n"
          ]
        }
      ]
    },
    {
      "cell_type": "code",
      "metadata": {
        "colab": {
          "base_uri": "https://localhost:8080/"
        },
        "id": "PtCigwchJobA",
        "outputId": "314c2d5f-402f-49f5-829d-c859db8ec644"
      },
      "source": [
        "!python mean_example.py arreglo_numerico.csv"
      ],
      "execution_count": 8,
      "outputs": [
        {
          "output_type": "stream",
          "name": "stdout",
          "text": [
            "No configs found; falling back on auto-configuration\n",
            "No configs specified for inline runner\n",
            "Creating temp directory /tmp/mean_example.root.20220910.232732.021600\n",
            "Running step 1 of 1...\n",
            "job output is in /tmp/mean_example.root.20220910.232732.021600/output\n",
            "Streaming final output from /tmp/mean_example.root.20220910.232732.021600/output...\n",
            "null\t46.21413506585902\n",
            "Removing temp directory /tmp/mean_example.root.20220910.232732.021600...\n"
          ]
        }
      ]
    },
    {
      "cell_type": "code",
      "source": [
        "#Otra Manera de crear un archivo separado por comas\n",
        "%%file numbers.txt\n",
        "1, 3 ,4 , 5 ,6 \n",
        "4,5,6\n",
        "7\n",
        "7,8,9,0,2,3"
      ],
      "metadata": {
        "colab": {
          "base_uri": "https://localhost:8080/"
        },
        "id": "AoxVyky4JKTE",
        "outputId": "e868db76-1d5f-4d9e-fd01-0a7ce7c92e45"
      },
      "execution_count": 9,
      "outputs": [
        {
          "output_type": "stream",
          "name": "stdout",
          "text": [
            "Writing numbers.txt\n"
          ]
        }
      ]
    },
    {
      "cell_type": "code",
      "source": [
        "np.mean([1, 3 ,4 , 5 ,6 ,4,5,6,7,7,8,9,0,2,3])"
      ],
      "metadata": {
        "colab": {
          "base_uri": "https://localhost:8080/"
        },
        "id": "hOXhR9I2T5V-",
        "outputId": "85be19f8-50ac-4b42-dffd-1fca9778ce2b"
      },
      "execution_count": 10,
      "outputs": [
        {
          "output_type": "execute_result",
          "data": {
            "text/plain": [
              "4.666666666666667"
            ]
          },
          "metadata": {},
          "execution_count": 10
        }
      ]
    },
    {
      "cell_type": "code",
      "source": [
        "!python mean_example.py numbers.txt"
      ],
      "metadata": {
        "colab": {
          "base_uri": "https://localhost:8080/"
        },
        "id": "KWXRtypPJMy4",
        "outputId": "0435fe89-586f-4eba-fa31-dd3220309499"
      },
      "execution_count": 11,
      "outputs": [
        {
          "output_type": "stream",
          "name": "stdout",
          "text": [
            "No configs found; falling back on auto-configuration\n",
            "No configs specified for inline runner\n",
            "Creating temp directory /tmp/mean_example.root.20220910.232924.644015\n",
            "Running step 1 of 1...\n",
            "job output is in /tmp/mean_example.root.20220910.232924.644015/output\n",
            "Streaming final output from /tmp/mean_example.root.20220910.232924.644015/output...\n",
            "null\t4.666666666666667\n",
            "Removing temp directory /tmp/mean_example.root.20220910.232924.644015...\n"
          ]
        }
      ]
    },
    {
      "cell_type": "code",
      "source": [
        "# Otro ejemplo utilizando mrjob"
      ],
      "metadata": {
        "id": "A85SrcgvIZ1G"
      },
      "execution_count": null,
      "outputs": []
    },
    {
      "cell_type": "code",
      "metadata": {
        "colab": {
          "base_uri": "https://localhost:8080/"
        },
        "id": "LV09cKrBzeBj",
        "outputId": "1f43faca-39e3-4ebf-ce64-8d6efc5789aa"
      },
      "source": [
        "%%file fruits.txt\n",
        "apple,banana,avocato,apple,apple,banana,avocato,apple,apple,banana,avocato,apple\n",
        "apple,banana,avocato,apple\n",
        "apple,banana,avocato,apple,apple,banana,avocato,apple"
      ],
      "execution_count": 12,
      "outputs": [
        {
          "output_type": "stream",
          "name": "stdout",
          "text": [
            "Writing fruits.txt\n"
          ]
        }
      ]
    },
    {
      "cell_type": "code",
      "metadata": {
        "colab": {
          "base_uri": "https://localhost:8080/"
        },
        "id": "7NA00TDszeDv",
        "outputId": "d6b321c7-8761-4d25-adc4-78bd064db112"
      },
      "source": [
        "%%file fruits_example.py\n",
        "from mrjob.job import MRJob\n",
        "class FreqMR(MRJob):\n",
        "    def mapper(self, _, line):\n",
        "        for fruit in line.split(\",\"):\n",
        "            if (fruit==\"apple\"): \n",
        "              yield \"apple\", 1\n",
        "            if (fruit==\"banana\"): \n",
        "              yield \"banana\", 1\n",
        "            if (fruit==\"avocato\"): \n",
        "              yield \"avocato\", 1\n",
        "        \n",
        "    def reducer(self, key, values):          \n",
        "        yield key, sum(values)\n",
        "        \n",
        "if __name__ == '__main__':\n",
        "    FreqMR.run()"
      ],
      "execution_count": 13,
      "outputs": [
        {
          "output_type": "stream",
          "name": "stdout",
          "text": [
            "Writing fruits_example.py\n"
          ]
        }
      ]
    },
    {
      "cell_type": "code",
      "metadata": {
        "colab": {
          "base_uri": "https://localhost:8080/"
        },
        "id": "VVL0sfOkzh7H",
        "outputId": "72616792-e0c8-4c7d-da24-1210545705fc"
      },
      "source": [
        "!python fruits_example.py fruits.txt"
      ],
      "execution_count": 14,
      "outputs": [
        {
          "output_type": "stream",
          "name": "stdout",
          "text": [
            "No configs found; falling back on auto-configuration\n",
            "No configs specified for inline runner\n",
            "Creating temp directory /tmp/fruits_example.root.20220910.233440.337207\n",
            "Running step 1 of 1...\n",
            "job output is in /tmp/fruits_example.root.20220910.233440.337207/output\n",
            "Streaming final output from /tmp/fruits_example.root.20220910.233440.337207/output...\n",
            "\"apple\"\t12\n",
            "\"avocato\"\t6\n",
            "\"banana\"\t6\n",
            "Removing temp directory /tmp/fruits_example.root.20220910.233440.337207...\n"
          ]
        }
      ]
    },
    {
      "cell_type": "code",
      "source": [],
      "metadata": {
        "id": "vmSVqP-9UI9V"
      },
      "execution_count": null,
      "outputs": []
    },
    {
      "cell_type": "markdown",
      "source": [
        "# pyspark"
      ],
      "metadata": {
        "id": "2EB1BRBtUKs7"
      }
    },
    {
      "cell_type": "code",
      "source": [
        "!apt-get install openjdk-8-jdk-headless -qq > /dev/null\n",
        "!wget -q https://downloads.apache.org/spark/spark-3.1.3/spark-3.1.3-bin-hadoop3.2.tgz\n",
        "!tar xf spark-3.1.3-bin-hadoop3.2.tgz\n",
        "!pip install -q findspark"
      ],
      "metadata": {
        "id": "sy54Lc96UOG0"
      },
      "execution_count": 15,
      "outputs": []
    },
    {
      "cell_type": "code",
      "source": [
        "import os\n",
        "os.environ[\"JAVA_HOME\"] = \"/usr/lib/jvm/java-8-openjdk-amd64\"\n",
        "os.environ[\"SPARK_HOME\"] = \"/content/spark-3.1.3-bin-hadoop3.2\""
      ],
      "metadata": {
        "id": "5fqrRD-oU7iH"
      },
      "execution_count": 16,
      "outputs": []
    },
    {
      "cell_type": "code",
      "source": [
        "#Pyspark\n",
        "import findspark\n",
        "findspark.init()\n",
        "import pyspark\n",
        "from pyspark import SparkContext"
      ],
      "metadata": {
        "id": "YNRNPypKU7rr"
      },
      "execution_count": 17,
      "outputs": []
    },
    {
      "cell_type": "code",
      "source": [
        "sc = SparkContext()"
      ],
      "metadata": {
        "id": "4kBH-Ld2nC3a"
      },
      "execution_count": 18,
      "outputs": []
    },
    {
      "cell_type": "code",
      "source": [
        "rdd = sc.parallelize([1,2,3,4,5,5,5,4,3,2,1])"
      ],
      "metadata": {
        "id": "3J4asHVZnD1d"
      },
      "execution_count": 23,
      "outputs": []
    },
    {
      "cell_type": "code",
      "source": [
        "rdd.collect()"
      ],
      "metadata": {
        "colab": {
          "base_uri": "https://localhost:8080/"
        },
        "id": "xn2fezxxnD4C",
        "outputId": "9038d299-1e36-4bd3-caca-01947f8ff1d3"
      },
      "execution_count": 24,
      "outputs": [
        {
          "output_type": "execute_result",
          "data": {
            "text/plain": [
              "[1, 2, 3, 4, 5, 5, 5, 4, 3, 2, 1]"
            ]
          },
          "metadata": {},
          "execution_count": 24
        }
      ]
    },
    {
      "cell_type": "code",
      "source": [
        "from sklearn.datasets import load_boston\n",
        "dataset = load_boston()\n",
        "X = dataset['data']\n",
        "y = dataset['target']"
      ],
      "metadata": {
        "id": "TCsQ7817ogoj"
      },
      "execution_count": 26,
      "outputs": []
    },
    {
      "cell_type": "code",
      "source": [
        "X_rdd = sc.parallelize(X.tolist())"
      ],
      "metadata": {
        "id": "f_cAczWxogtf"
      },
      "execution_count": 27,
      "outputs": []
    },
    {
      "cell_type": "code",
      "source": [
        "#Verificando el funcionamiento del siguiente bloque de codigo\n",
        "\"\"\"\n",
        "tmp_val = X_rdd.flatMap(lambda sample: [(col, sample[col]) for col in range(len(sample))])\n",
        "max_val = tmp_val.reduceByKey(lambda x, y: x if x > y else y).sortByKey().collect()\n",
        "n_max = [val[1] for val in max_val]\n",
        "datos_rdd.map(lambda sample: np.divide(np.subtract(sample, n_min), np.subtract(n_max, n_min)).tolist())\n",
        "\"\"\""
      ],
      "metadata": {
        "colab": {
          "base_uri": "https://localhost:8080/",
          "height": 71
        },
        "id": "RkBRwowpyQ_3",
        "outputId": "96671e5d-f2c5-46b1-d252-6e3edcea6faa"
      },
      "execution_count": 41,
      "outputs": [
        {
          "output_type": "execute_result",
          "data": {
            "text/plain": [
              "'\\ntmp_val = X_rdd.flatMap(lambda sample: [(col, sample[col]) for col in range(len(sample))])\\nmax_val = tmp_val.reduceByKey(lambda x, y: x if x > y else y).sortByKey().collect()\\nn_max = [val[1] for val in max_val]\\ndatos_rdd.map(lambda sample: np.divide(np.subtract(sample, n_min), np.subtract(n_max, n_min)).tolist())\\n'"
            ],
            "application/vnd.google.colaboratory.intrinsic+json": {
              "type": "string"
            }
          },
          "metadata": {},
          "execution_count": 41
        }
      ]
    },
    {
      "cell_type": "code",
      "source": [
        "#Escalar minmax\n",
        "import numpy as np\n",
        "def minMaxScaler(datos_rdd):\n",
        "  tmp_val = datos_rdd.flatMap(lambda sample: [(col, sample[col]) for col in range(len(sample))])\n",
        "  max_val = tmp_val.reduceByKey(lambda x, y: x if x > y else y).sortByKey().collect()\n",
        "  min_val = tmp_val.reduceByKey(lambda x, y: x if x < y else y).sortByKey().collect()\n",
        "  #Desechar la llave que acompaña a los valores maximos y minimos\n",
        "  n_max = [val[1] for val in max_val]\n",
        "  n_min = [val[1] for val in min_val]\n",
        "  return datos_rdd.map(lambda sample: np.divide(np.subtract(sample, n_min), np.subtract(n_max, n_min)).tolist())\n",
        "\n",
        "#Nota: Si se quiere ver el resultado final pero ocupa demasiado espacio en consola\n",
        "#minMaxScaler(X_rdd).collect()"
      ],
      "metadata": {
        "id": "hGsUSxRwogx4"
      },
      "execution_count": 42,
      "outputs": []
    },
    {
      "cell_type": "code",
      "source": [
        "np.array(minMaxScaler(X_rdd).collect())"
      ],
      "metadata": {
        "colab": {
          "base_uri": "https://localhost:8080/"
        },
        "id": "C2Oury0Azf94",
        "outputId": "ff867afa-4afb-48ab-cd30-7130c4b30378"
      },
      "execution_count": 40,
      "outputs": [
        {
          "output_type": "execute_result",
          "data": {
            "text/plain": [
              "array([[0.00000000e+00, 1.80000000e-01, 6.78152493e-02, ...,\n",
              "        2.87234043e-01, 1.00000000e+00, 8.96799117e-02],\n",
              "       [2.35922539e-04, 0.00000000e+00, 2.42302053e-01, ...,\n",
              "        5.53191489e-01, 1.00000000e+00, 2.04470199e-01],\n",
              "       [2.35697744e-04, 0.00000000e+00, 2.42302053e-01, ...,\n",
              "        5.53191489e-01, 9.89737254e-01, 6.34657837e-02],\n",
              "       ...,\n",
              "       [6.11892474e-04, 0.00000000e+00, 4.20454545e-01, ...,\n",
              "        8.93617021e-01, 1.00000000e+00, 1.07891832e-01],\n",
              "       [1.16072990e-03, 0.00000000e+00, 4.20454545e-01, ...,\n",
              "        8.93617021e-01, 9.91300620e-01, 1.31070640e-01],\n",
              "       [4.61841693e-04, 0.00000000e+00, 4.20454545e-01, ...,\n",
              "        8.93617021e-01, 1.00000000e+00, 1.69701987e-01]])"
            ]
          },
          "metadata": {},
          "execution_count": 40
        }
      ]
    },
    {
      "cell_type": "code",
      "source": [
        "import numpy as np\n",
        "from sklearn.datasets import load_breast_cancer\n",
        "dataset = load_breast_cancer()\n",
        "X = dataset['data']\n",
        "y = dataset['target']"
      ],
      "metadata": {
        "id": "LubF1fQPnC6p"
      },
      "execution_count": null,
      "outputs": []
    },
    {
      "cell_type": "code",
      "source": [
        "dataset_rdd = sc.parallelize(np.append(X, y[:, None], axis = 1), 5)"
      ],
      "metadata": {
        "id": "6jc8v0Ypn9Rp"
      },
      "execution_count": null,
      "outputs": []
    },
    {
      "cell_type": "markdown",
      "source": [
        "# Un poco de naive bayes\n",
        "\n",
        "https://scikit-learn.org/stable/modules/naive_bayes.html\n"
      ],
      "metadata": {
        "id": "KXdHMtt1UYpL"
      }
    },
    {
      "cell_type": "code",
      "source": [
        "from sklearn.datasets import load_iris\n",
        "from sklearn.model_selection import train_test_split\n",
        "from sklearn.naive_bayes import GaussianNB\n",
        "X, y = load_iris(return_X_y=True)\n",
        "X_train, X_test, y_train, y_test = train_test_split(X, y, test_size=0.5, random_state=0)\n",
        "gnb = GaussianNB()\n",
        "y_pred = gnb.fit(X_train, y_train).predict(X_test)"
      ],
      "metadata": {
        "id": "y5QMhE1XUOMT"
      },
      "execution_count": 31,
      "outputs": []
    },
    {
      "cell_type": "code",
      "source": [
        "#numero de clases\n",
        "print(gnb.class_count_)\n",
        "#probabilidad apriori\n",
        "print(gnb.class_prior_)\n",
        "print(gnb.theta_)\n",
        "#print(gnb.var_)"
      ],
      "metadata": {
        "colab": {
          "base_uri": "https://localhost:8080/"
        },
        "id": "FoY1I8u0UOPR",
        "outputId": "997cf5b5-d378-4ea3-aec5-2c88b097fdac"
      },
      "execution_count": 52,
      "outputs": [
        {
          "output_type": "stream",
          "name": "stdout",
          "text": [
            "[29. 20. 26.]\n",
            "[0.38666667 0.26666667 0.34666667]\n",
            "[[4.97586207 3.35862069 1.44827586 0.23448276]\n",
            " [5.935      2.71       4.185      1.3       ]\n",
            " [6.77692308 3.09230769 5.73461538 2.10769231]]\n"
          ]
        }
      ]
    },
    {
      "cell_type": "code",
      "source": [
        "print(29/np.sum(gnb.class_count_))\n",
        "print(20/np.sum(gnb.class_count_))\n",
        "print(26/np.sum(gnb.class_count_))"
      ],
      "metadata": {
        "colab": {
          "base_uri": "https://localhost:8080/"
        },
        "id": "eQ44vxqIVwp1",
        "outputId": "3cf69c32-c322-491d-ea29-54a8dbf08c75"
      },
      "execution_count": 36,
      "outputs": [
        {
          "output_type": "stream",
          "name": "stdout",
          "text": [
            "0.38666666666666666\n",
            "0.26666666666666666\n",
            "0.3466666666666667\n"
          ]
        }
      ]
    },
    {
      "cell_type": "code",
      "source": [],
      "metadata": {
        "id": "qT9XmptGVw5Y"
      },
      "execution_count": null,
      "outputs": []
    }
  ]
}